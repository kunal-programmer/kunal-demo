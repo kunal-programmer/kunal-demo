{
 "cells": [
  {
   "cell_type": "code",
   "execution_count": 42,
   "id": "5bdaeb12-b723-4f0e-a302-869e0ca44c76",
   "metadata": {
    "tags": []
   },
   "outputs": [],
   "source": [
    "import random\n",
    "import string"
   ]
  },
  {
   "cell_type": "code",
   "execution_count": 43,
   "id": "285731db-f5ea-4c42-bcd1-ce3469e8696a",
   "metadata": {
    "tags": []
   },
   "outputs": [
    {
     "name": "stdin",
     "output_type": "stream",
     "text": [
      "enter your length of password 10\n"
     ]
    },
    {
     "name": "stdout",
     "output_type": "stream",
     "text": [
      "here is your password /r8\\N0oD2W\n"
     ]
    }
   ],
   "source": [
    "def automatic_password(length):\n",
    "    password = string.punctuation +  string.ascii_lowercase  + string.digits\n",
    "    variable = ''.join(random.choice(password)for i in range(length))\n",
    "    return password\n",
    "\n",
    "if __name__ == \"__main__\":\n",
    "    length=int(input(\"enter your length of password\"))\n",
    "    generator=generate_password(length)\n",
    "    print(\"here is your password\",generator)"
   ]
  },
  {
   "cell_type": "code",
   "execution_count": null,
   "id": "c89d5bcd-fe22-417e-a24b-a1a4b8b1e388",
   "metadata": {},
   "outputs": [],
   "source": []
  }
 ],
 "metadata": {
  "kernelspec": {
   "display_name": "Python 3 (ipykernel)",
   "language": "python",
   "name": "python3"
  },
  "language_info": {
   "codemirror_mode": {
    "name": "ipython",
    "version": 3
   },
   "file_extension": ".py",
   "mimetype": "text/x-python",
   "name": "python",
   "nbconvert_exporter": "python",
   "pygments_lexer": "ipython3",
   "version": "3.11.5"
  }
 },
 "nbformat": 4,
 "nbformat_minor": 5
}
